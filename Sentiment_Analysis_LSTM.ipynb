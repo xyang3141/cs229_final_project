{
 "cells": [
  {
   "cell_type": "code",
   "execution_count": 1,
   "id": "2b3fd957-3e6e-4353-b114-2bd998c795dd",
   "metadata": {},
   "outputs": [],
   "source": [
    "import torch\n",
    "import numpy as np\n",
    "from torchtext.legacy import data\n",
    "from torchtext.legacy import datasets"
   ]
  },
  {
   "cell_type": "code",
   "execution_count": 2,
   "id": "8f8bb21f-2852-4645-8984-4f295db6dbde",
   "metadata": {},
   "outputs": [],
   "source": [
    "TEXT = data.Field(tokenize = 'spacy', tokenizer_language = 'en_core_web_sm', include_lengths = True)\n",
    "LABEL = data.LabelField()\n",
    "\n",
    "fields = [('text', TEXT), ('label', LABEL)]\n",
    "train_data, valid_data, test_data = data.TabularDataset.splits(\n",
    "                                        path = 'sentiment_3_new_tweet_validtestexchanged',\n",
    "                                        train = 'train.csv',\n",
    "                                        validation = 'valid.csv',\n",
    "                                        test = 'test.csv',\n",
    "                                        format = 'csv',\n",
    "                                        fields = fields\n",
    ")"
   ]
  },
  {
   "cell_type": "code",
   "execution_count": 3,
   "id": "bee93fdb-ceef-41a7-9fc1-2a21effcb253",
   "metadata": {},
   "outputs": [
    {
     "name": "stdout",
     "output_type": "stream",
     "text": [
      "Number of training examples: 5147\n",
      "Number of validation examples: 500\n",
      "Number of testing examples: 500\n"
     ]
    }
   ],
   "source": [
    "print(f'Number of training examples: {len(train_data)}')\n",
    "print(f'Number of validation examples: {len(valid_data)}')\n",
    "print(f'Number of testing examples: {len(test_data)}')"
   ]
  },
  {
   "cell_type": "code",
   "execution_count": 30,
   "id": "f3ca8999-1638-4eba-b4e5-aaff166fac42",
   "metadata": {},
   "outputs": [],
   "source": [
    "MAX_VOCAB_SIZE = 25_000\n",
    "\n",
    "TEXT.build_vocab(train_data, max_size = MAX_VOCAB_SIZE, vectors = \"glove.twitter.27B.100d\", unk_init = torch.Tensor.normal_)\n",
    "LABEL.build_vocab(train_data)"
   ]
  },
  {
   "cell_type": "code",
   "execution_count": 5,
   "id": "a114afeb-6120-48af-beb2-5aeca54ecaf4",
   "metadata": {},
   "outputs": [
    {
     "name": "stdout",
     "output_type": "stream",
     "text": [
      "Unique tokens in TEXT vocabulary: 12695\n",
      "Unique tokens in LABEL vocabulary: 3\n"
     ]
    }
   ],
   "source": [
    "print(f\"Unique tokens in TEXT vocabulary: {len(TEXT.vocab)}\")\n",
    "print(f\"Unique tokens in LABEL vocabulary: {len(LABEL.vocab)}\")"
   ]
  },
  {
   "cell_type": "code",
   "execution_count": 32,
   "id": "5e05a26e-c824-453b-a433-ad8c093c70c1",
   "metadata": {},
   "outputs": [
    {
     "name": "stdout",
     "output_type": "stream",
     "text": [
      "['<unk>', '<pad>', 'the', 'to', 'of', 'coronavirus', ',', 'in', 'a', 'and']\n",
      "defaultdict(None, {'3': 0, '4': 1, '2': 2})\n"
     ]
    }
   ],
   "source": [
    "print(TEXT.vocab.itos[:10])\n",
    "print(LABEL.vocab.stoi)"
   ]
  },
  {
   "cell_type": "code",
   "execution_count": 7,
   "id": "4c50a6a3-6a44-4443-adcc-c49632bf1134",
   "metadata": {},
   "outputs": [],
   "source": [
    "BATCH_SIZE = 128\n",
    "\n",
    "device = torch.device('cuda' if torch.cuda.is_available() else 'cpu')\n",
    "\n",
    "train_iterator, valid_iterator, test_iterator = data.BucketIterator.splits(\n",
    "    (train_data, valid_data, test_data), \n",
    "    batch_size = BATCH_SIZE,\n",
    "    sort_key = lambda x : len(x.text),\n",
    "    sort_within_batch = True,\n",
    "    device = device)"
   ]
  },
  {
   "cell_type": "code",
   "execution_count": 8,
   "id": "5016fcd4-b95e-4125-8b71-02986412a710",
   "metadata": {},
   "outputs": [],
   "source": [
    "import torch.nn as nn\n",
    "\n",
    "class RNN(nn.Module):\n",
    "    def __init__(self, input_dim, embedding_dim, hidden_dim, output_dim, n_layers, bidirectional, dropout, pad_idx):\n",
    "        \n",
    "        super().__init__()\n",
    "        \n",
    "        self.embedding = nn.Embedding(input_dim, embedding_dim, padding_idx = pad_idx)\n",
    "        \n",
    "        self.rnn = nn.LSTM(embedding_dim, hidden_dim, num_layers = n_layers, bidirectional = bidirectional, dropout = dropout)\n",
    "        \n",
    "        self.fc = nn.Linear(hidden_dim * 2, output_dim)\n",
    "        \n",
    "        self.dropout = nn.Dropout(dropout)\n",
    "        \n",
    "    def forward(self, text, text_lengths):\n",
    "\n",
    "        #text = [sent len, batch size]\n",
    "        \n",
    "        embedded = self.dropout(self.embedding(text))\n",
    "        \n",
    "        #embedded = [sent len, batch size, emb dim]\n",
    "        \n",
    "        #pack sequence\n",
    "        # lengths need to be on CPU!\n",
    "        packed_embedded = nn.utils.rnn.pack_padded_sequence(embedded, text_lengths.to('cpu'))\n",
    "        \n",
    "        packed_output, (hidden, cell) = self.rnn(packed_embedded)\n",
    "        \n",
    "        #concate the final forward (hidden[-2, :, :]) and backward (hidden[-1, :, :]) hidden layers\n",
    "        #and apply dropout\n",
    "        \n",
    "        hidden = self.dropout(torch.cat((hidden[-2, :, :], hidden[-1, :, :]), dim = 1))\n",
    "        \n",
    "        #hidden = [batch size, hid dim * num directions]\n",
    "        \n",
    "        return self.fc(hidden)"
   ]
  },
  {
   "cell_type": "code",
   "execution_count": 9,
   "id": "85d65231-88a2-47b1-8b0a-cfe4ddfe8a18",
   "metadata": {},
   "outputs": [],
   "source": [
    "INPUT_DIM = len(TEXT.vocab)\n",
    "EMBEDDING_DIM = 100\n",
    "HIDDEN_DIM = 200\n",
    "OUTPUT_DIM = 3\n",
    "N_LAYERS = 2\n",
    "BIDIRECTIONAL = True\n",
    "DROPOUT = 0.5\n",
    "PAD_IDX = TEXT.vocab.stoi[TEXT.pad_token]\n",
    "\n",
    "model = RNN(INPUT_DIM, EMBEDDING_DIM, HIDDEN_DIM, OUTPUT_DIM, N_LAYERS, BIDIRECTIONAL, DROPOUT, PAD_IDX)"
   ]
  },
  {
   "cell_type": "code",
   "execution_count": 29,
   "id": "3756e4c3-7ab1-4d13-9da3-2a8e7ff522ed",
   "metadata": {},
   "outputs": [
    {
     "data": {
      "text/plain": [
       "1"
      ]
     },
     "execution_count": 29,
     "metadata": {},
     "output_type": "execute_result"
    }
   ],
   "source": [
    "PAD_IDX"
   ]
  },
  {
   "cell_type": "code",
   "execution_count": 10,
   "id": "10a24565-8df3-4433-abac-a484513c645c",
   "metadata": {},
   "outputs": [
    {
     "data": {
      "text/plain": [
       "tensor([[ 0.9859, -0.2253,  0.1287,  ..., -0.3901,  1.4014,  0.6982],\n",
       "        [-0.7584, -0.6723, -0.0453,  ...,  2.3447,  0.4374,  1.0083],\n",
       "        [ 0.0952,  0.3702,  0.5429,  ..., -0.5108,  0.4688,  0.3488],\n",
       "        ...,\n",
       "        [ 1.6566,  0.2806,  0.0337,  ...,  0.8610, -0.5657, -1.3537],\n",
       "        [-0.4114,  0.2590, -0.3857,  ..., -0.4929,  1.5722,  0.7735],\n",
       "        [ 0.3067,  0.6251, -0.7928,  ..., -0.2143, -2.3515,  0.3265]])"
      ]
     },
     "execution_count": 10,
     "metadata": {},
     "output_type": "execute_result"
    }
   ],
   "source": [
    "pretrained_embeddings = TEXT.vocab.vectors\n",
    "model.embedding.weight.data.copy_(pretrained_embeddings)"
   ]
  },
  {
   "cell_type": "code",
   "execution_count": 11,
   "id": "c0ddd137-52fb-4a40-9388-eed9af1eb149",
   "metadata": {},
   "outputs": [],
   "source": [
    "UNK_IDX = TEXT.vocab.stoi[TEXT.unk_token]\n",
    "\n",
    "model.embedding.weight.data[UNK_IDX] = torch.zeros(EMBEDDING_DIM)\n",
    "model.embedding.weight.data[PAD_IDX] = torch.zeros(EMBEDDING_DIM)"
   ]
  },
  {
   "cell_type": "code",
   "execution_count": 12,
   "id": "54b6c941-6182-4d32-8607-197590a6ac3c",
   "metadata": {},
   "outputs": [],
   "source": [
    "import torch.optim as optim\n",
    "\n",
    "optimizer = optim.Adam(model.parameters())"
   ]
  },
  {
   "cell_type": "code",
   "execution_count": 13,
   "id": "ae134006-c151-4ca0-8f01-e0577c2ddc45",
   "metadata": {},
   "outputs": [],
   "source": [
    "criterion = torch.nn.CrossEntropyLoss()\n",
    "model = model.to(device)\n",
    "criterion = criterion.to(device)"
   ]
  },
  {
   "cell_type": "code",
   "execution_count": 14,
   "id": "83e73922-83b2-43ab-8c91-845f794107bc",
   "metadata": {},
   "outputs": [],
   "source": [
    "def compute_accuracy(preds, y):\n",
    "    \"\"\"\n",
    "    Returns accuracy per batch, i.e. if you get 8/10 right, this returns 0.8, NOT 8\n",
    "    \"\"\"\n",
    "    class_preds = torch.argmax(torch.softmax(preds, 1), dim=1)\n",
    "    correct = (class_preds == (y)).float() #convert into float for division \n",
    "    acc = correct.sum() / len(correct)\n",
    "    return acc"
   ]
  },
  {
   "cell_type": "code",
   "execution_count": 15,
   "id": "00f5e48a-cdd9-4d2a-8d89-eb1a40abfd5e",
   "metadata": {},
   "outputs": [],
   "source": [
    "from torchmetrics.functional import accuracy, precision, recall, f1\n",
    "\n",
    "def compute_metrics(preds, y):\n",
    "    \"\"\"\n",
    "    Returns precision, recall, F1-score of per batch\n",
    "    \"\"\"\n",
    "    class_preds = torch.argmax(torch.softmax(preds, 1), dim=1)\n",
    "    return (accuracy(class_preds, y), \n",
    "            precision(class_preds, y, num_classes=3, average='macro'), \n",
    "            recall(class_preds, y, num_classes=3, average='macro'), \n",
    "            f1(class_preds, y, num_classes=3, average='macro'))"
   ]
  },
  {
   "cell_type": "code",
   "execution_count": 16,
   "id": "e38a8c73-a85b-492e-ade9-f4061b4288a1",
   "metadata": {},
   "outputs": [],
   "source": [
    "def train(model, iterator, optimizer, criterion):\n",
    "    \n",
    "    epoch_loss = 0\n",
    "    epoch_acc = 0\n",
    "    epoch_prec = 0\n",
    "    epoch_recall = 0\n",
    "    epoch_f1 = 0\n",
    "    batches = len(iterator)\n",
    "    \n",
    "    model.train()\n",
    "    \n",
    "    for batch in iterator:\n",
    "        \n",
    "        optimizer.zero_grad()\n",
    "                \n",
    "        text, text_lengths = batch.text\n",
    "        \n",
    "        predictions = model(text, text_lengths).squeeze(1)\n",
    "        \n",
    "        loss = criterion(predictions, batch.label)\n",
    "        \n",
    "        acc, prec, recall, f1 = compute_metrics(predictions, batch.label)\n",
    "        \n",
    "        loss.backward()\n",
    "        \n",
    "        optimizer.step()\n",
    "        \n",
    "        epoch_loss += loss.item()\n",
    "        epoch_acc += acc.item()\n",
    "        epoch_prec += prec.item()\n",
    "        epoch_recall += recall.item()\n",
    "        epoch_f1 += f1.item()\n",
    "        \n",
    "    return epoch_loss/batches, epoch_acc/batches, epoch_prec/batches, epoch_recall/batches, epoch_f1/batches"
   ]
  },
  {
   "cell_type": "code",
   "execution_count": 17,
   "id": "d1225778-8b24-45cf-9207-2ce856fe48e0",
   "metadata": {},
   "outputs": [],
   "source": [
    "def evaluate(model, iterator, criterion):\n",
    "    \n",
    "    epoch_loss = 0\n",
    "    epoch_acc = 0\n",
    "    epoch_prec = 0\n",
    "    epoch_recall = 0\n",
    "    epoch_f1 = 0\n",
    "    batches = len(iterator)\n",
    "    \n",
    "    model.eval()\n",
    "    \n",
    "    with torch.no_grad():\n",
    "    \n",
    "        for batch in iterator:\n",
    "\n",
    "            text, text_lengths = batch.text\n",
    "            \n",
    "            predictions = model(text, text_lengths).squeeze(1)\n",
    "            \n",
    "            loss = criterion(predictions, batch.label)\n",
    "            \n",
    "            acc, prec, recall, f1 = compute_metrics(predictions, batch.label)\n",
    "\n",
    "            epoch_loss += loss.item()\n",
    "            epoch_acc += acc.item()\n",
    "            epoch_prec += prec.item()\n",
    "            epoch_recall += recall.item()\n",
    "            epoch_f1 += f1.item()\n",
    "        \n",
    "    return epoch_loss/batches, epoch_acc/batches, epoch_prec/batches, epoch_recall/batches, epoch_f1/batches"
   ]
  },
  {
   "cell_type": "code",
   "execution_count": 18,
   "id": "831b1837-bf2c-4926-a1b7-3a3c64188973",
   "metadata": {},
   "outputs": [],
   "source": [
    "import time\n",
    "\n",
    "def epoch_time(start_time, end_time):\n",
    "    elapsed_time = end_time - start_time\n",
    "    elapsed_mins = int(elapsed_time / 60)\n",
    "    elapsed_secs = int(elapsed_time - (elapsed_mins * 60))\n",
    "    return elapsed_mins, elapsed_secs"
   ]
  },
  {
   "cell_type": "code",
   "execution_count": 19,
   "id": "ea8b6a11-817d-491c-92bd-91593332c0dc",
   "metadata": {},
   "outputs": [
    {
     "name": "stdout",
     "output_type": "stream",
     "text": [
      "Epoch: 01 | Epoch Time: 0m 8s\n",
      "\tTrain Loss: 0.912 | Train Acc: 59.13% | Train Prec: 34.75% | Train Recall: 36.99% | Train F1: 30.21%\n",
      "\t Val. Loss: 0.820 |  Val. Acc: 67.48% |  Val. Prec: 45.62% |  Val. Recall: 45.15% | Val.  F1: 42.97%\n",
      "Epoch: 02 | Epoch Time: 0m 7s\n",
      "\tTrain Loss: 0.738 | Train Acc: 67.27% | Train Prec: 64.21% | Train Recall: 51.13% | Train F1: 51.74%\n",
      "\t Val. Loss: 0.707 |  Val. Acc: 72.83% |  Val. Prec: 83.26% |  Val. Recall: 54.61% | Val.  F1: 58.24%\n",
      "Epoch: 03 | Epoch Time: 0m 7s\n",
      "\tTrain Loss: 0.642 | Train Acc: 72.50% | Train Prec: 70.15% | Train Recall: 61.48% | Train F1: 63.77%\n",
      "\t Val. Loss: 0.695 |  Val. Acc: 71.97% |  Val. Prec: 73.99% |  Val. Recall: 58.31% | Val.  F1: 61.44%\n",
      "Epoch: 04 | Epoch Time: 0m 9s\n",
      "\tTrain Loss: 0.585 | Train Acc: 74.87% | Train Prec: 72.56% | Train Recall: 65.88% | Train F1: 67.65%\n",
      "\t Val. Loss: 0.659 |  Val. Acc: 74.37% |  Val. Prec: 79.44% |  Val. Recall: 58.40% | Val.  F1: 62.11%\n",
      "Epoch: 05 | Epoch Time: 0m 8s\n",
      "\tTrain Loss: 0.526 | Train Acc: 78.71% | Train Prec: 77.36% | Train Recall: 70.74% | Train F1: 72.62%\n",
      "\t Val. Loss: 0.612 |  Val. Acc: 77.13% |  Val. Prec: 79.64% |  Val. Recall: 63.33% | Val.  F1: 67.68%\n",
      "Epoch: 06 | Epoch Time: 0m 8s\n",
      "\tTrain Loss: 0.475 | Train Acc: 80.19% | Train Prec: 79.25% | Train Recall: 73.88% | Train F1: 75.57%\n",
      "\t Val. Loss: 0.595 |  Val. Acc: 76.74% |  Val. Prec: 78.42% |  Val. Recall: 63.61% | Val.  F1: 67.61%\n",
      "Epoch: 07 | Epoch Time: 0m 5s\n",
      "\tTrain Loss: 0.423 | Train Acc: 82.68% | Train Prec: 81.12% | Train Recall: 77.04% | Train F1: 78.38%\n",
      "\t Val. Loss: 0.581 |  Val. Acc: 76.00% |  Val. Prec: 78.30% |  Val. Recall: 64.07% | Val.  F1: 68.01%\n",
      "Epoch: 08 | Epoch Time: 0m 1s\n",
      "\tTrain Loss: 0.382 | Train Acc: 84.59% | Train Prec: 83.58% | Train Recall: 79.45% | Train F1: 80.96%\n",
      "\t Val. Loss: 0.562 |  Val. Acc: 78.99% |  Val. Prec: 83.10% |  Val. Recall: 65.29% | Val.  F1: 69.95%\n",
      "Epoch: 09 | Epoch Time: 0m 1s\n",
      "\tTrain Loss: 0.348 | Train Acc: 86.13% | Train Prec: 84.79% | Train Recall: 81.30% | Train F1: 82.49%\n",
      "\t Val. Loss: 0.577 |  Val. Acc: 77.15% |  Val. Prec: 77.62% |  Val. Recall: 65.83% | Val.  F1: 68.98%\n",
      "Epoch: 10 | Epoch Time: 0m 8s\n",
      "\tTrain Loss: 0.317 | Train Acc: 87.23% | Train Prec: 86.00% | Train Recall: 83.32% | Train F1: 84.28%\n",
      "\t Val. Loss: 0.575 |  Val. Acc: 79.38% |  Val. Prec: 81.57% |  Val. Recall: 67.02% | Val.  F1: 71.24%\n",
      "Epoch: 11 | Epoch Time: 0m 8s\n",
      "\tTrain Loss: 0.283 | Train Acc: 88.74% | Train Prec: 87.62% | Train Recall: 85.36% | Train F1: 86.12%\n",
      "\t Val. Loss: 0.609 |  Val. Acc: 76.37% |  Val. Prec: 74.48% |  Val. Recall: 65.33% | Val.  F1: 68.43%\n",
      "Epoch: 12 | Epoch Time: 0m 9s\n",
      "\tTrain Loss: 0.261 | Train Acc: 89.64% | Train Prec: 88.45% | Train Recall: 86.72% | Train F1: 87.35%\n",
      "\t Val. Loss: 0.577 |  Val. Acc: 79.77% |  Val. Prec: 81.92% |  Val. Recall: 69.00% | Val.  F1: 72.99%\n",
      "Epoch: 13 | Epoch Time: 0m 9s\n",
      "\tTrain Loss: 0.247 | Train Acc: 90.57% | Train Prec: 89.39% | Train Recall: 88.07% | Train F1: 88.47%\n",
      "\t Val. Loss: 0.572 |  Val. Acc: 77.99% |  Val. Prec: 77.66% |  Val. Recall: 68.74% | Val.  F1: 71.86%\n",
      "Epoch: 14 | Epoch Time: 0m 8s\n",
      "\tTrain Loss: 0.211 | Train Acc: 91.63% | Train Prec: 90.78% | Train Recall: 89.13% | Train F1: 89.73%\n",
      "\t Val. Loss: 0.598 |  Val. Acc: 79.81% |  Val. Prec: 79.63% |  Val. Recall: 69.56% | Val.  F1: 73.03%\n",
      "Epoch: 15 | Epoch Time: 0m 9s\n",
      "\tTrain Loss: 0.218 | Train Acc: 91.67% | Train Prec: 90.66% | Train Recall: 89.45% | Train F1: 89.85%\n",
      "\t Val. Loss: 0.615 |  Val. Acc: 76.90% |  Val. Prec: 77.26% |  Val. Recall: 69.10% | Val.  F1: 71.51%\n"
     ]
    }
   ],
   "source": [
    "N_EPOCHS = 15\n",
    "\n",
    "best_valid_loss = float('inf')\n",
    "train_loss = np.zeros(N_EPOCHS)\n",
    "train_acc = np.zeros(N_EPOCHS)\n",
    "train_prec = np.zeros(N_EPOCHS)\n",
    "train_recall = np.zeros(N_EPOCHS)\n",
    "train_f1 = np.zeros(N_EPOCHS)\n",
    "valid_loss = np.zeros(N_EPOCHS)\n",
    "valid_acc = np.zeros(N_EPOCHS)\n",
    "valid_prec = np.zeros(N_EPOCHS)\n",
    "valid_recall = np.zeros(N_EPOCHS)\n",
    "valid_f1 = np.zeros(N_EPOCHS)\n",
    "\n",
    "\n",
    "for i in range(N_EPOCHS):\n",
    "\n",
    "    start_time = time.time()\n",
    "    \n",
    "    train_loss[i], train_acc[i], train_prec[i], train_recall[i], train_f1[i] = train(model, train_iterator, optimizer, criterion)\n",
    "    valid_loss[i], valid_acc[i], valid_prec[i], valid_recall[i], valid_f1[i] = evaluate(model, valid_iterator, criterion)\n",
    "    \n",
    "    end_time = time.time()\n",
    "\n",
    "    epoch_mins, epoch_secs = epoch_time(start_time, end_time)\n",
    "    \n",
    "    if valid_loss[i] < best_valid_loss:\n",
    "        best_valid_loss = valid_loss[i]\n",
    "        torch.save(model.state_dict(), 'tut2-model.pt')\n",
    "    \n",
    "    print(f'Epoch: {i+1:02} | Epoch Time: {epoch_mins}m {epoch_secs}s')\n",
    "    print(f'\\tTrain Loss: {train_loss[i]:.3f} | Train Acc: {train_acc[i]*100:.2f}% | Train Prec: {train_prec[i]*100:.2f}% | Train Recall: {train_recall[i]*100:.2f}% | Train F1: {train_f1[i]*100:.2f}%')\n",
    "    print(f'\\t Val. Loss: {valid_loss[i]:.3f} |  Val. Acc: {valid_acc[i]*100:.2f}% |  Val. Prec: {valid_prec[i]*100:.2f}% |  Val. Recall: {valid_recall[i]*100:.2f}% | Val.  F1: {valid_f1[i]*100:.2f}%')"
   ]
  },
  {
   "cell_type": "code",
   "execution_count": 27,
   "id": "25f4d4fa-0e79-40a1-b690-0ef36077e6c2",
   "metadata": {},
   "outputs": [
    {
     "name": "stdout",
     "output_type": "stream",
     "text": [
      "Test Loss: 0.497 | Test Acc: 81.96% | Test Prec: 85.07% | Test Recall: 72.19% | Test F1: 76.09%\n"
     ]
    }
   ],
   "source": [
    "model.load_state_dict(torch.load('tut2-model.pt'))\n",
    "\n",
    "test_loss, test_acc, test_prec, test_recall, test_f1 = evaluate(model, test_iterator, criterion)\n",
    "\n",
    "print(f'Test Loss: {test_loss:.3f} | Test Acc: {test_acc*100:.2f}% | Test Prec: {test_prec*100:.2f}% | Test Recall: {test_recall*100:.2f}% | Test F1: {test_f1*100:.2f}%')"
   ]
  },
  {
   "cell_type": "code",
   "execution_count": 21,
   "id": "a1cee70c-5474-40dc-9a77-f8b93742eea4",
   "metadata": {},
   "outputs": [],
   "source": [
    "import spacy\n",
    "import numpy as np\n",
    "nlp = spacy.load('en_core_web_sm')\n",
    "\n",
    "def predict_singleSentence(model, sentence):\n",
    "    model.eval()\n",
    "    tokenized = [tok.text for tok in nlp.tokenizer(sentence)]\n",
    "    indexed = [TEXT.vocab.stoi[t] for t in tokenized]\n",
    "    length = [len(indexed)]\n",
    "    tensor = torch.LongTensor(indexed).to(device)\n",
    "    tensor = tensor.unsqueeze(1)\n",
    "    length_tensor = torch.LongTensor(length)\n",
    "    prediction = torch.sigmoid(model(tensor, length_tensor)).cpu().detach().numpy()\n",
    "    return np.argmax(prediction)\n",
    "\n",
    "def predict_sentiment(model, sentences):\n",
    "    pred_res = []\n",
    "    for i, sentence in sentences.items():\n",
    "        pred_res.append(predict_singleSentence(model, sentence))\n",
    "    return pred_res"
   ]
  },
  {
   "cell_type": "code",
   "execution_count": 22,
   "id": "b2a6cc5f-b351-4063-b090-2de170f92a05",
   "metadata": {},
   "outputs": [],
   "source": [
    "import matplotlib.pyplot as plt\n",
    "from numpy import interp\n",
    "from sklearn.preprocessing import label_binarize\n",
    "from sklearn.metrics import auc\n",
    "from sklearn.metrics import roc_curve\n",
    "from sklearn.metrics import roc_auc_score\n",
    "\n",
    "def prec_rec_curve(model, X, Y_true, titile=\"\"):\n",
    "    fpr = dict()\n",
    "    tpr = dict()\n",
    "    roc_auc = dict()\n",
    "    \n",
    "    n_classes = 3\n",
    "    y_test = label_binarize(Y_true, classes=[2, 3, 4])\n",
    "    predict_res = predict_sentiment(model, X)\n",
    "    y_score = label_binarize(predict_res, classes=[2, 0, 1])\n",
    "    for i in range(n_classes):\n",
    "        fpr[i], tpr[i], _ = roc_curve(y_test[:, i], y_score[:, i])\n",
    "        roc_auc[i] = auc(fpr[i], tpr[i])\n",
    "    \n",
    "    fpr[\"micro\"], tpr[\"micro\"], _ = roc_curve(y_test.ravel(), y_score.ravel())\n",
    "    roc_auc[\"micro\"] = auc(fpr[\"micro\"], tpr[\"micro\"])\n",
    "    micro_auc = roc_auc_score(y_test, y_score, average='micro')\n",
    "    \n",
    "    all_fpr = np.unique(np.concatenate([fpr[i] for i in range(n_classes)]))\n",
    "    mean_tpr = np.zeros_like(all_fpr)\n",
    "    for i in range(n_classes):\n",
    "        mean_tpr += interp(all_fpr, fpr[i], tpr[i])\n",
    "    mean_tpr /= n_classes\n",
    "\n",
    "    fpr[\"macro\"] = all_fpr\n",
    "    tpr[\"macro\"] = mean_tpr\n",
    "    roc_auc[\"macro\"] = auc(fpr[\"macro\"], tpr[\"macro\"])\n",
    "    macro_auc = roc_auc_score(y_test, y_score, average='macro')\n",
    "\n",
    "    print(roc_auc)\n",
    "    print('micro auc:', micro_auc)\n",
    "    print('macro auc:', macro_auc)\n",
    "    \n",
    "    # Plot all ROC curves\n",
    "    plt.figure()\n",
    "    plt.plot(fpr[\"micro\"], tpr[\"micro\"],\n",
    "             label='micro-average ROC curve (area = {0:0.2f})'.format(roc_auc[\"micro\"]),\n",
    "             color='deeppink', linestyle=':', linewidth=4)\n",
    "\n",
    "    plt.plot(fpr[\"macro\"], tpr[\"macro\"],\n",
    "             label='macro-average ROC curve (area = {0:0.2f})'.format(roc_auc[\"macro\"]),\n",
    "             color='navy', linestyle=':', linewidth=4)\n",
    "\n",
    "    colors = ['aqua', 'darkorange', 'cornflowerblue']\n",
    "    for i, color in zip(range(n_classes), colors):\n",
    "        plt.plot(fpr[i], tpr[i], color=color, lw=2,\n",
    "                 label='ROC curve of class {0} (area = {1:0.2f})'.format(i, roc_auc[i]))\n",
    "\n",
    "    plt.plot([0, 1], [0, 1], 'k--', lw=2)\n",
    "    plt.xlim([0.0, 1.0])\n",
    "    plt.ylim([0.0, 1.05])\n",
    "    plt.xlabel('False Positive Rate')\n",
    "    plt.ylabel('True Positive Rate')\n",
    "    plt.title('Receiver Operating Characteristic')\n",
    "    plt.legend(loc=\"lower right\")\n",
    "    plt.savefig('figures/LSTM_ROC.jpg')"
   ]
  },
  {
   "cell_type": "code",
   "execution_count": 23,
   "id": "23425cc3-79a7-4cc8-993c-255fff5f2ead",
   "metadata": {},
   "outputs": [
    {
     "name": "stdout",
     "output_type": "stream",
     "text": [
      "{0: 0.7654761904761905, 1: 0.8090736155069778, 2: 0.812232358964811, 'micro': 0.8635, 'macro': 0.7955940549826597}\n",
      "micro auc: 0.8635\n",
      "macro auc: 0.7955940549826598\n"
     ]
    },
    {
     "data": {
      "image/png": "[encoded data removed]",
      "text/plain": [
       "<Figure size 432x288 with 1 Axes>"
      ]
     },
     "metadata": {
      "needs_background": "light"
     },
     "output_type": "display_data"
    }
   ],
   "source": [
    "import pandas as pd\n",
    "test_df = pd.read_csv(\"sentiment_3_new_tweet_validtestexchanged/test.csv\", header=None)\n",
    "\n",
    "prec_rec_curve(model, test_df[0], test_df[1])"
   ]
  },
  {
   "cell_type": "markdown",
   "id": "84e39030-64cd-446f-87b1-1a2ce3f7f34b",
   "metadata": {
    "tags": []
   },
   "source": [
    "### Confusion Matrix"
   ]
  },
  {
   "cell_type": "code",
   "execution_count": 24,
   "id": "a94fa6cb-d448-49a5-abc1-4944f99c3258",
   "metadata": {},
   "outputs": [
    {
     "data": {
      "text/plain": [
       "array([[0.84615385, 0.11538462, 0.03846154],\n",
       "       [0.08474576, 0.79096045, 0.12429379],\n",
       "       [0.06382979, 0.03191489, 0.90425532]])"
      ]
     },
     "execution_count": 24,
     "metadata": {},
     "output_type": "execute_result"
    }
   ],
   "source": [
    "from sklearn.metrics import confusion_matrix\n",
    "\n",
    "y_test_pred = predict_sentiment(model,  test_df[0])\n",
    "y_test_pred = np.array([int(LABEL.vocab.itos[label]) for label in y_test_pred])\n",
    "y_test_true = test_df[1].apply(int).values\n",
    "cm = confusion_matrix(y_test_pred, y_test_true, normalize='true')\n",
    "cm"
   ]
  },
  {
   "cell_type": "code",
   "execution_count": 25,
   "id": "445065d6-f365-4fe5-bcef-a572c6d5f841",
   "metadata": {},
   "outputs": [
    {
     "data": {
      "image/png": "[encoded data removed]",
      "text/plain": [
       "<Figure size 432x288 with 2 Axes>"
      ]
     },
     "metadata": {
      "needs_background": "light"
     },
     "output_type": "display_data"
    }
   ],
   "source": [
    "normalize = True\n",
    "cmap = 'RdPu'\n",
    "classes = [0, 1, 2]\n",
    "title = 'Cofusion Matrix'\n",
    "fig, ax = plt.subplots()\n",
    "im = ax.imshow(cm, interpolation='nearest', cmap=cmap)\n",
    "ax.figure.colorbar(im, ax = ax)\n",
    "ax.set(xticks = np.arange(cm.shape[1]), yticks = np.arange(cm.shape[0]), xticklabels = classes, yticklabels = classes, ylabel = 'True label', xlabel = 'Predicted label', title = title)\n",
    "plt.setp(ax.get_xticklabels(), rotation=45, ha = 'right', rotation_mode = 'anchor')\n",
    "fmt = '.2f' if normalize else 'd'\n",
    "thresh = cm.max() / 2\n",
    "for i in range(cm.shape[0]):\n",
    "    for j in range(cm.shape[1]):\n",
    "        ax.text(j, i, format(cm[i, j], fmt), ha = 'center', va = 'center', color = 'white' if cm[i,j] > thresh else 'black')\n",
    "        fig.tight_layout()\n",
    "plt.savefig('figures/LSTM_CM.jpg')"
   ]
  },
  {
   "cell_type": "markdown",
   "id": "7584852a-9aed-4203-9a5f-128dc3023a4e",
   "metadata": {},
   "source": [
    "### Metrics Cruves"
   ]
  },
  {
   "cell_type": "code",
   "execution_count": 26,
   "id": "eb1dfbb6-0cdc-45b6-bff0-50e43b6fcce9",
   "metadata": {},
   "outputs": [
    {
     "data": {
      "image/png": "[encoded data removed]",
      "text/plain": [
       "<Figure size 1008x288 with 2 Axes>"
      ]
     },
     "metadata": {
      "needs_background": "light"
     },
     "output_type": "display_data"
    }
   ],
   "source": [
    "totEpoch = N_EPOCHS\n",
    "x = range(0, totEpoch)\n",
    "plt.figure(figsize=(14,4))\n",
    "grid = plt.GridSpec(3, 2, wspace=0.5, hspace=0.5)\n",
    "plt.subplot(grid[:,0])\n",
    "# plt.plot(x, F1_list_train, color=\"b\", marker='o',markersize='1.5',markeredgecolor='b',markeredgewidth = 1.5, label = 'Train F1 score')\n",
    "plt.plot(x, train_f1, color=\"r\", marker='o',markersize='1.5',markeredgecolor='r',markeredgewidth = 1.5, label = 'Train F1 score')\n",
    "plt.plot(x, valid_f1, color=\"b\", marker='o',markersize='1.5',markeredgecolor='b',markeredgewidth = 1.5, label = 'Valid F1 score')\n",
    "plt.legend()\n",
    "plt.title('F1 Score vs Epoches')\n",
    "plt.xlabel('Epoches')\n",
    "plt.ylabel('F1 Score')\n",
    "plt.subplot(grid[:,1])\n",
    "plt.plot(x, train_loss, color=\"red\", marker='o',markersize='1.5',markeredgecolor='r',markeredgewidth = 1.5, label = 'Train Loss')\n",
    "plt.plot(x, valid_loss, color=\"blue\", marker='o',markersize='1.5',markeredgecolor='b',markeredgewidth = 1.5, label = 'Valid Loss')\n",
    "plt.legend()\n",
    "plt.title('Loss vs Epoches')\n",
    "plt.xlabel('Epoches')\n",
    "plt.ylabel('Loss')\n",
    "plt.savefig('figures/LSTM Loss_F1.jpg')"
   ]
  },
  {
   "cell_type": "code",
   "execution_count": null,
   "id": "1d3e05b4-1fa5-4784-9537-7017ccc6515a",
   "metadata": {},
   "outputs": [],
   "source": []
  }
 ],
 "metadata": {
  "environment": {
   "kernel": "python3",
   "name": "pytorch-gpu.1-9.m82",
   "type": "gcloud",
   "uri": "gcr.io/deeplearning-platform-release/pytorch-gpu.1-9:m82"
  },
  "kernelspec": {
   "display_name": "Python 3",
   "language": "python",
   "name": "python3"
  },
  "language_info": {
   "codemirror_mode": {
    "name": "ipython",
    "version": 3
   },
   "file_extension": ".py",
   "mimetype": "text/x-python",
   "name": "python",
   "nbconvert_exporter": "python",
   "pygments_lexer": "ipython3",
   "version": "3.7.10"
  }
 },
 "nbformat": 4,
 "nbformat_minor": 5
}
