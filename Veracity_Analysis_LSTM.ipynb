{
 "cells": [
  {
   "cell_type": "code",
   "execution_count": 1,
   "id": "c3535bdb-aa93-4191-b841-84a91ec7700d",
   "metadata": {},
   "outputs": [],
   "source": [
    "import torch\n",
    "import numpy as np\n",
    "from torchtext.legacy import data\n",
    "from torchtext.legacy import datasets"
   ]
  },
  {
   "cell_type": "code",
   "execution_count": 2,
   "id": "b05e3893-8149-43af-b653-1794910ee329",
   "metadata": {},
   "outputs": [],
   "source": [
    "TEXT = data.Field(tokenize = 'spacy', tokenizer_language = 'en_core_web_sm', include_lengths = True)\n",
    "LABEL = data.LabelField(dtype = torch.float)\n",
    "\n",
    "fields = [('text', TEXT), ('label', LABEL)]\n",
    "train_data, valid_data, test_data = data.TabularDataset.splits(\n",
    "                                        path = 'dataset_2class',\n",
    "                                        train = 'train.csv',\n",
    "                                        validation = 'valid.csv',\n",
    "                                        test = 'test.csv',\n",
    "                                        format = 'csv',\n",
    "                                        fields = fields,\n",
    ")"
   ]
  },
  {
   "cell_type": "code",
   "execution_count": 3,
   "id": "fce29fb6-8f33-4391-bf4d-a56ef96f0d30",
   "metadata": {},
   "outputs": [
    {
     "name": "stdout",
     "output_type": "stream",
     "text": [
      "Number of training examples: 4549\n",
      "Number of validation examples: 800\n",
      "Number of testing examples: 800\n"
     ]
    }
   ],
   "source": [
    "print(f'Number of training examples: {len(train_data)}')\n",
    "print(f'Number of validation examples: {len(valid_data)}')\n",
    "print(f'Number of testing examples: {len(test_data)}')"
   ]
  },
  {
   "cell_type": "code",
   "execution_count": 4,
   "id": "b5bb7cbe-62b2-4652-bf1c-f002548a9af1",
   "metadata": {},
   "outputs": [],
   "source": [
    "MAX_VOCAB_SIZE = 25_000\n",
    "\n",
    "TEXT.build_vocab(train_data, max_size = MAX_VOCAB_SIZE, vectors = \"glove.twitter.27B.100d\", unk_init = torch.Tensor.normal_)\n",
    "LABEL.build_vocab(train_data)"
   ]
  },
  {
   "cell_type": "code",
   "execution_count": 5,
   "id": "34236a02-d0df-407e-82a9-db5385fb99af",
   "metadata": {},
   "outputs": [
    {
     "name": "stdout",
     "output_type": "stream",
     "text": [
      "Unique tokens in TEXT vocabulary: 12817\n",
      "Unique tokens in LABEL vocabulary: 2\n"
     ]
    }
   ],
   "source": [
    "print(f\"Unique tokens in TEXT vocabulary: {len(TEXT.vocab)}\")\n",
    "print(f\"Unique tokens in LABEL vocabulary: {len(LABEL.vocab)}\")"
   ]
  },
  {
   "cell_type": "code",
   "execution_count": 6,
   "id": "e9cde3a6-d262-4ff6-af7d-fe562322c9b4",
   "metadata": {},
   "outputs": [
    {
     "name": "stdout",
     "output_type": "stream",
     "text": [
      "['<unk>', '<pad>', 'the', 'to', 'of', 'coronavirus', ',', 'in', 'a', 'and']\n",
      "defaultdict(None, {'0': 0, '1': 1})\n"
     ]
    }
   ],
   "source": [
    "print(TEXT.vocab.itos[:10])\n",
    "print(LABEL.vocab.stoi)"
   ]
  },
  {
   "cell_type": "code",
   "execution_count": 7,
   "id": "8ec506f8-ecb4-4691-9498-220fa48fc4b7",
   "metadata": {},
   "outputs": [],
   "source": [
    "BATCH_SIZE = 128\n",
    "\n",
    "device = torch.device('cuda' if torch.cuda.is_available() else 'cpu')\n",
    "\n",
    "train_iterator, valid_iterator, test_iterator = data.BucketIterator.splits(\n",
    "    (train_data, valid_data, test_data), \n",
    "    batch_size = BATCH_SIZE,\n",
    "    sort_key = lambda x : len(x.text),\n",
    "    sort_within_batch = True,\n",
    "    device = device)"
   ]
  },
  {
   "cell_type": "code",
   "execution_count": 8,
   "id": "ca1dc80b-9a40-49cb-9c78-66a571ffae9a",
   "metadata": {},
   "outputs": [],
   "source": [
    "import torch.nn as nn\n",
    "\n",
    "class RNN(nn.Module):\n",
    "    def __init__(self, input_dim, embedding_dim, hidden_dim, output_dim, n_layers, bidirectional, dropout, pad_idx):\n",
    "        \n",
    "        super().__init__()\n",
    "        \n",
    "        self.embedding = nn.Embedding(input_dim, embedding_dim, padding_idx = pad_idx)\n",
    "        \n",
    "        self.rnn = nn.LSTM(embedding_dim, hidden_dim, num_layers = n_layers, bidirectional = bidirectional, dropout = dropout)\n",
    "        \n",
    "        self.fc = nn.Linear(hidden_dim * 2, output_dim)\n",
    "        \n",
    "        self.dropout = nn.Dropout(dropout)\n",
    "        \n",
    "    def forward(self, text, text_lengths):\n",
    "\n",
    "        #text = [sent len, batch size]\n",
    "        \n",
    "        embedded = self.dropout(self.embedding(text))\n",
    "        \n",
    "        #embedded = [sent len, batch size, emb dim]\n",
    "        \n",
    "        #pack sequence\n",
    "        # lengths need to be on CPU!\n",
    "        packed_embedded = nn.utils.rnn.pack_padded_sequence(embedded, text_lengths.to('cpu'))\n",
    "        \n",
    "        packed_output, (hidden, cell) = self.rnn(packed_embedded)\n",
    "        \n",
    "        #concate the final forward (hidden[-2, :, :]) and backward (hidden[-1, :, :]) hidden layers\n",
    "        #and apply dropout\n",
    "        \n",
    "        hidden = self.dropout(torch.cat((hidden[-2, :, :], hidden[-1, :, :]), dim = 1))\n",
    "        \n",
    "        #hidden = [batch size, hid dim * num directions]\n",
    "        \n",
    "        return self.fc(hidden)"
   ]
  },
  {
   "cell_type": "code",
   "execution_count": 9,
   "id": "af3d037f-4326-4583-aaf3-cafc0eb42c0c",
   "metadata": {},
   "outputs": [],
   "source": [
    "def compute_accuracy(preds, y):\n",
    "    \"\"\"\n",
    "    Returns accuracy per batch, i.e. if you get 8/10 right, this returns 0.8, NOT 8\n",
    "    \"\"\"\n",
    "    rounded_preds = torch.round(torch.sigmoid(preds))\n",
    "    correct = (rounded_preds == y).float() #convert into float for division \n",
    "    acc = correct.sum() / len(correct)\n",
    "    return acc"
   ]
  },
  {
   "cell_type": "code",
   "execution_count": 10,
   "id": "f20aa69c-387c-4f87-a5d4-6e8f0d7a1657",
   "metadata": {},
   "outputs": [],
   "source": [
    "from torchmetrics.functional import accuracy, precision, recall, f1\n",
    "\n",
    "def compute_metrics(preds, y):\n",
    "    \"\"\"\n",
    "    Returns precision, recall, F1-score of per batch\n",
    "    \"\"\"\n",
    "    class_preds = torch.round(torch.sigmoid(preds))\n",
    "    return (accuracy(class_preds, y.int()), \n",
    "            precision(class_preds, y.int()), \n",
    "            recall(class_preds, y.int()), \n",
    "            f1(class_preds, y.int()))"
   ]
  },
  {
   "cell_type": "code",
   "execution_count": 11,
   "id": "aa6ae3b0-b3a4-4849-b141-cbf8d16c949f",
   "metadata": {},
   "outputs": [],
   "source": [
    "def train(model, iterator, optimizer, criterion):\n",
    "    \n",
    "    epoch_loss = 0\n",
    "    epoch_acc = 0\n",
    "    epoch_prec = 0\n",
    "    epoch_recall = 0\n",
    "    epoch_f1 = 0\n",
    "    batches = len(iterator)\n",
    "    \n",
    "    model.train()\n",
    "    \n",
    "    for batch in iterator:\n",
    "        \n",
    "        optimizer.zero_grad()\n",
    "                \n",
    "        text, text_lengths = batch.text\n",
    "        \n",
    "        predictions = model(text, text_lengths).squeeze(1)\n",
    "        \n",
    "        loss = criterion(predictions, batch.label)\n",
    "        \n",
    "        acc, prec, recall, f1 = compute_metrics(predictions, batch.label)\n",
    "        \n",
    "        loss.backward()\n",
    "        \n",
    "        optimizer.step()\n",
    "        \n",
    "        epoch_loss += loss.item()\n",
    "        epoch_acc += acc.item()\n",
    "        epoch_prec += prec.item()\n",
    "        epoch_recall += recall.item()\n",
    "        epoch_f1 += f1.item()\n",
    "        \n",
    "    return epoch_loss/batches, epoch_acc/batches, epoch_prec/batches, epoch_recall/batches, epoch_f1/batches"
   ]
  },
  {
   "cell_type": "code",
   "execution_count": 12,
   "id": "35150692-f79f-4011-953b-50ba15169ea9",
   "metadata": {},
   "outputs": [],
   "source": [
    "def evaluate(model, iterator, criterion):\n",
    "    \n",
    "    epoch_loss = 0\n",
    "    epoch_acc = 0\n",
    "    epoch_prec = 0\n",
    "    epoch_recall = 0\n",
    "    epoch_f1 = 0\n",
    "    batches = len(iterator)\n",
    "    \n",
    "    model.eval()\n",
    "    \n",
    "    with torch.no_grad():\n",
    "    \n",
    "        for batch in iterator:\n",
    "\n",
    "            text, text_lengths = batch.text\n",
    "            \n",
    "            predictions = model(text, text_lengths).squeeze(1)\n",
    "            \n",
    "            loss = criterion(predictions, batch.label)\n",
    "            \n",
    "            acc, prec, recall, f1 = compute_metrics(predictions, batch.label)\n",
    "\n",
    "            epoch_loss += loss.item()\n",
    "            epoch_acc += acc.item()\n",
    "            epoch_prec += prec.item()\n",
    "            epoch_recall += recall.item()\n",
    "            epoch_f1 += f1.item()\n",
    "        \n",
    "    return epoch_loss/batches, epoch_acc/batches, epoch_prec/batches, epoch_recall/batches, epoch_f1/batches"
   ]
  },
  {
   "cell_type": "code",
   "execution_count": 13,
   "id": "eaa40db5-3095-4cd1-a710-0184d0f8bdce",
   "metadata": {},
   "outputs": [],
   "source": [
    "import time\n",
    "\n",
    "def epoch_time(start_time, end_time):\n",
    "    elapsed_time = end_time - start_time\n",
    "    elapsed_mins = int(elapsed_time / 60)\n",
    "    elapsed_secs = int(elapsed_time - (elapsed_mins * 60))\n",
    "    return elapsed_mins, elapsed_secs"
   ]
  },
  {
   "cell_type": "code",
   "execution_count": 14,
   "id": "5dd232b6-9890-4135-89ae-0527bb4cd655",
   "metadata": {},
   "outputs": [],
   "source": [
    "INPUT_DIM = len(TEXT.vocab)\n",
    "EMBEDDING_DIM = 100\n",
    "HIDDEN_DIM = 256\n",
    "OUTPUT_DIM = 1\n",
    "N_LAYERS = 2\n",
    "BIDIRECTIONAL = True\n",
    "DROPOUT = 0.6\n",
    "PAD_IDX = TEXT.vocab.stoi[TEXT.pad_token]\n",
    "\n",
    "model = RNN(INPUT_DIM, EMBEDDING_DIM, HIDDEN_DIM, OUTPUT_DIM, N_LAYERS, BIDIRECTIONAL, DROPOUT, PAD_IDX)"
   ]
  },
  {
   "cell_type": "code",
   "execution_count": 8,
   "id": "e8d18f0a-727d-4e68-bd84-59ad86426d1c",
   "metadata": {},
   "outputs": [],
   "source": [
    "import torch.nn as nn\n",
    "\n",
    "class RNN(nn.Module):\n",
    "    def __init__(self, input_dim, embedding_dim, hidden_dim, output_dim, n_layers, bidirectional, dropout, pad_idx):\n",
    "        \n",
    "        super().__init__()\n",
    "        \n",
    "        self.embedding = nn.Embedding(input_dim, embedding_dim, padding_idx = pad_idx)\n",
    "        \n",
    "        self.rnn = nn.LSTM(embedding_dim, hidden_dim, num_layers = n_layers, bidirectional = bidirectional, dropout = dropout)\n",
    "        \n",
    "        self.fc = nn.Linear(hidden_dim * 2, output_dim)\n",
    "        \n",
    "        self.dropout = nn.Dropout(dropout)\n",
    "        \n",
    "    def forward(self, text, text_lengths):\n",
    "\n",
    "        #text = [sent len, batch size]\n",
    "        \n",
    "        embedded = self.dropout(self.embedding(text))\n",
    "        \n",
    "        #embedded = [sent len, batch size, emb dim]\n",
    "        \n",
    "        #pack sequence\n",
    "        # lengths need to be on CPU!\n",
    "        packed_embedded = nn.utils.rnn.pack_padded_sequence(embedded, text_lengths.to('cpu'))\n",
    "        \n",
    "        packed_output, (hidden, cell) = self.rnn(packed_embedded)\n",
    "        \n",
    "        #concate the final forward (hidden[-2, :, :]) and backward (hidden[-1, :, :]) hidden layers\n",
    "        #and apply dropout\n",
    "        \n",
    "        hidden = self.dropout(torch.cat((hidden[-2, :, :], hidden[-1, :, :]), dim = 1))\n",
    "        \n",
    "        #hidden = [batch size, hid dim * num directions]\n",
    "        \n",
    "        return self.fc(hidden)"
   ]
  },
  {
   "cell_type": "code",
   "execution_count": 15,
   "id": "7bf6294b-6a3d-470b-8d9a-0c865f835a0d",
   "metadata": {},
   "outputs": [
    {
     "data": {
      "text/plain": [
       "tensor([[ 0.0863, -0.3212, -0.7306,  ...,  0.0383,  0.7750,  0.7235],\n",
       "        [-0.9660,  0.0707,  0.4790,  ...,  0.1688,  0.1052, -1.6556],\n",
       "        [ 0.0952,  0.3702,  0.5429,  ..., -0.5108,  0.4688,  0.3488],\n",
       "        ...,\n",
       "        [-0.1691, -0.4322, -0.5729,  ..., -0.6843, -0.0293,  0.6630],\n",
       "        [-1.3264, -0.0809, -0.1520,  ..., -0.6498, -0.9133,  0.5905],\n",
       "        [ 0.3992,  1.2451,  0.1476,  ...,  1.3701,  0.5583, -1.4422]])"
      ]
     },
     "execution_count": 15,
     "metadata": {},
     "output_type": "execute_result"
    }
   ],
   "source": [
    "pretrained_embeddings = TEXT.vocab.vectors\n",
    "model.embedding.weight.data.copy_(pretrained_embeddings)"
   ]
  },
  {
   "cell_type": "code",
   "execution_count": 16,
   "id": "9d97477f-0fdf-4046-94b0-6e5864413c41",
   "metadata": {},
   "outputs": [],
   "source": [
    "UNK_IDX = TEXT.vocab.stoi[TEXT.unk_token]\n",
    "\n",
    "model.embedding.weight.data[UNK_IDX] = torch.zeros(EMBEDDING_DIM)\n",
    "model.embedding.weight.data[PAD_IDX] = torch.zeros(EMBEDDING_DIM)"
   ]
  },
  {
   "cell_type": "code",
   "execution_count": 17,
   "id": "047a3887-e00d-4130-949d-029fd81262ce",
   "metadata": {},
   "outputs": [],
   "source": [
    "import torch.optim as optim\n",
    "\n",
    "optimizer = optim.Adam(model.parameters(), lr=0.0005)\n",
    "criterion = nn.BCEWithLogitsLoss()\n",
    "model = model.to(device)\n",
    "criterion = criterion.to(device)"
   ]
  },
  {
   "cell_type": "code",
   "execution_count": 18,
   "id": "0a7cdcbf-7b83-46e0-a831-b0a1ea2ed01e",
   "metadata": {},
   "outputs": [
    {
     "name": "stdout",
     "output_type": "stream",
     "text": [
      "Epoch: 01 | Epoch Time: 0m 2s\n",
      "\tTrain Loss: 0.679 | Train Acc: 54.55% | Train Prec: 56.12% | Train Recall: 29.93% | Train F1: 28.31%\n",
      "\t Val. Loss: 0.701 |  Val. Acc: 54.69% |  Val. Prec: 71.43% |  Val. Recall: 1.31% | Val.  F1: 2.56%\n",
      "Epoch: 02 | Epoch Time: 0m 1s\n",
      "\tTrain Loss: 0.640 | Train Acc: 63.30% | Train Prec: 71.41% | Train Recall: 31.35% | Train F1: 34.24%\n",
      "\t Val. Loss: 0.579 |  Val. Acc: 69.87% |  Val. Prec: 57.92% |  Val. Recall: 83.86% | Val.  F1: 68.39%\n",
      "Epoch: 03 | Epoch Time: 0m 1s\n",
      "\tTrain Loss: 0.570 | Train Acc: 70.77% | Train Prec: 64.56% | Train Recall: 62.31% | Train F1: 62.33%\n",
      "\t Val. Loss: 0.540 |  Val. Acc: 72.32% |  Val. Prec: 73.81% |  Val. Recall: 50.09% | Val.  F1: 59.12%\n",
      "Epoch: 04 | Epoch Time: 0m 1s\n",
      "\tTrain Loss: 0.551 | Train Acc: 71.95% | Train Prec: 68.06% | Train Recall: 63.85% | Train F1: 63.68%\n",
      "\t Val. Loss: 0.499 |  Val. Acc: 77.68% |  Val. Prec: 69.08% |  Val. Recall: 71.15% | Val.  F1: 69.88%\n",
      "Epoch: 05 | Epoch Time: 0m 1s\n",
      "\tTrain Loss: 0.505 | Train Acc: 76.11% | Train Prec: 71.39% | Train Recall: 65.44% | Train F1: 67.72%\n",
      "\t Val. Loss: 0.555 |  Val. Acc: 73.44% |  Val. Prec: 61.21% |  Val. Recall: 84.14% | Val.  F1: 70.75%\n",
      "Epoch: 06 | Epoch Time: 0m 1s\n",
      "\tTrain Loss: 0.474 | Train Acc: 77.53% | Train Prec: 72.01% | Train Recall: 67.59% | Train F1: 69.23%\n",
      "\t Val. Loss: 0.527 |  Val. Acc: 75.11% |  Val. Prec: 63.56% |  Val. Recall: 80.07% | Val.  F1: 70.34%\n",
      "Epoch: 07 | Epoch Time: 0m 1s\n",
      "\tTrain Loss: 0.447 | Train Acc: 79.60% | Train Prec: 74.59% | Train Recall: 72.03% | Train F1: 72.95%\n",
      "\t Val. Loss: 0.534 |  Val. Acc: 74.78% |  Val. Prec: 62.91% |  Val. Recall: 81.03% | Val.  F1: 70.20%\n",
      "Epoch: 08 | Epoch Time: 0m 1s\n",
      "\tTrain Loss: 0.435 | Train Acc: 80.13% | Train Prec: 75.64% | Train Recall: 71.07% | Train F1: 72.81%\n",
      "\t Val. Loss: 0.602 |  Val. Acc: 72.77% |  Val. Prec: 60.99% |  Val. Recall: 85.46% | Val.  F1: 70.97%\n",
      "Epoch: 09 | Epoch Time: 0m 1s\n",
      "\tTrain Loss: 0.425 | Train Acc: 80.35% | Train Prec: 75.56% | Train Recall: 72.65% | Train F1: 73.57%\n",
      "\t Val. Loss: 0.475 |  Val. Acc: 77.57% |  Val. Prec: 67.07% |  Val. Recall: 80.09% | Val.  F1: 72.71%\n",
      "Epoch: 10 | Epoch Time: 0m 1s\n",
      "\tTrain Loss: 0.402 | Train Acc: 82.27% | Train Prec: 78.59% | Train Recall: 75.35% | Train F1: 76.49%\n",
      "\t Val. Loss: 0.614 |  Val. Acc: 72.54% |  Val. Prec: 60.01% |  Val. Recall: 87.55% | Val.  F1: 71.00%\n",
      "Epoch: 11 | Epoch Time: 0m 1s\n",
      "\tTrain Loss: 0.392 | Train Acc: 82.79% | Train Prec: 78.10% | Train Recall: 77.53% | Train F1: 77.34%\n",
      "\t Val. Loss: 0.488 |  Val. Acc: 77.34% |  Val. Prec: 66.40% |  Val. Recall: 82.40% | Val.  F1: 73.31%\n",
      "Epoch: 12 | Epoch Time: 0m 1s\n",
      "\tTrain Loss: 0.372 | Train Acc: 83.85% | Train Prec: 81.07% | Train Recall: 75.99% | Train F1: 78.04%\n",
      "\t Val. Loss: 0.618 |  Val. Acc: 74.00% |  Val. Prec: 61.64% |  Val. Recall: 87.58% | Val.  F1: 72.19%\n",
      "Epoch: 13 | Epoch Time: 0m 1s\n",
      "\tTrain Loss: 0.367 | Train Acc: 84.46% | Train Prec: 80.95% | Train Recall: 79.10% | Train F1: 79.49%\n",
      "\t Val. Loss: 0.481 |  Val. Acc: 78.01% |  Val. Prec: 66.99% |  Val. Recall: 81.55% | Val.  F1: 73.38%\n",
      "Epoch: 14 | Epoch Time: 0m 2s\n",
      "\tTrain Loss: 0.359 | Train Acc: 84.43% | Train Prec: 80.25% | Train Recall: 78.05% | Train F1: 78.81%\n",
      "\t Val. Loss: 0.578 |  Val. Acc: 74.22% |  Val. Prec: 62.54% |  Val. Recall: 86.00% | Val.  F1: 72.07%\n",
      "Epoch: 15 | Epoch Time: 0m 2s\n",
      "\tTrain Loss: 0.341 | Train Acc: 85.04% | Train Prec: 81.15% | Train Recall: 79.18% | Train F1: 79.66%\n",
      "\t Val. Loss: 0.572 |  Val. Acc: 77.23% |  Val. Prec: 65.26% |  Val. Recall: 83.49% | Val.  F1: 73.12%\n",
      "Epoch: 16 | Epoch Time: 0m 4s\n",
      "\tTrain Loss: 0.336 | Train Acc: 85.45% | Train Prec: 82.03% | Train Recall: 78.61% | Train F1: 79.93%\n",
      "\t Val. Loss: 0.591 |  Val. Acc: 74.89% |  Val. Prec: 63.34% |  Val. Recall: 84.72% | Val.  F1: 72.17%\n",
      "Epoch: 17 | Epoch Time: 0m 5s\n",
      "\tTrain Loss: 0.314 | Train Acc: 86.50% | Train Prec: 82.99% | Train Recall: 80.07% | Train F1: 81.11%\n",
      "\t Val. Loss: 0.489 |  Val. Acc: 79.91% |  Val. Prec: 70.79% |  Val. Recall: 78.70% | Val.  F1: 74.40%\n",
      "Epoch: 18 | Epoch Time: 0m 5s\n",
      "\tTrain Loss: 0.318 | Train Acc: 86.80% | Train Prec: 84.13% | Train Recall: 79.58% | Train F1: 81.26%\n",
      "\t Val. Loss: 0.474 |  Val. Acc: 79.02% |  Val. Prec: 68.64% |  Val. Recall: 81.34% | Val.  F1: 74.35%\n"
     ]
    }
   ],
   "source": [
    "N_EPOCHS = 18\n",
    "\n",
    "best_valid_loss = float('inf')\n",
    "train_loss = np.zeros(N_EPOCHS)\n",
    "train_acc = np.zeros(N_EPOCHS)\n",
    "train_prec = np.zeros(N_EPOCHS)\n",
    "train_recall = np.zeros(N_EPOCHS)\n",
    "train_f1 = np.zeros(N_EPOCHS)\n",
    "valid_loss = np.zeros(N_EPOCHS)\n",
    "valid_acc = np.zeros(N_EPOCHS)\n",
    "valid_prec = np.zeros(N_EPOCHS)\n",
    "valid_recall = np.zeros(N_EPOCHS)\n",
    "valid_f1 = np.zeros(N_EPOCHS)\n",
    "\n",
    "\n",
    "for i in range(N_EPOCHS):\n",
    "\n",
    "    start_time = time.time()\n",
    "    \n",
    "    train_loss[i], train_acc[i], train_prec[i], train_recall[i], train_f1[i] = train(model, train_iterator, optimizer, criterion)\n",
    "    valid_loss[i], valid_acc[i], valid_prec[i], valid_recall[i], valid_f1[i] = evaluate(model, valid_iterator, criterion)\n",
    "    \n",
    "    end_time = time.time()\n",
    "\n",
    "    epoch_mins, epoch_secs = epoch_time(start_time, end_time)\n",
    "    \n",
    "    if valid_loss[i] < best_valid_loss:\n",
    "        best_valid_loss = valid_loss[i]\n",
    "        torch.save(model.state_dict(), 'tut2-veracity-model-2class.pt')\n",
    "    \n",
    "    print(f'Epoch: {i+1:02} | Epoch Time: {epoch_mins}m {epoch_secs}s')\n",
    "    print(f'\\tTrain Loss: {train_loss[i]:.3f} | Train Acc: {train_acc[i]*100:.2f}% | Train Prec: {train_prec[i]*100:.2f}% | Train Recall: {train_recall[i]*100:.2f}% | Train F1: {train_f1[i]*100:.2f}%')\n",
    "    print(f'\\t Val. Loss: {valid_loss[i]:.3f} |  Val. Acc: {valid_acc[i]*100:.2f}% |  Val. Prec: {valid_prec[i]*100:.2f}% |  Val. Recall: {valid_recall[i]*100:.2f}% | Val.  F1: {valid_f1[i]*100:.2f}%')"
   ]
  },
  {
   "cell_type": "code",
   "execution_count": 19,
   "id": "39c31714-59ad-4c83-b572-a16ee07a50d9",
   "metadata": {},
   "outputs": [
    {
     "name": "stdout",
     "output_type": "stream",
     "text": [
      "Test Loss: 0.396 | Test Acc: 83.26% | Test Prec: 77.87% | Test Recall: 84.77% | Test F1: 81.00%\n"
     ]
    }
   ],
   "source": [
    "model.load_state_dict(torch.load('tut2-veracity-model-2class.pt'))\n",
    "\n",
    "test_loss, test_acc, test_prec, test_recall, test_f1 = evaluate(model, test_iterator, criterion)\n",
    "\n",
    "print(f'Test Loss: {test_loss:.3f} | Test Acc: {test_acc*100:.2f}% | Test Prec: {test_prec*100:.2f}% | Test Recall: {test_recall*100:.2f}% | Test F1: {test_f1*100:.2f}%')"
   ]
  },
  {
   "cell_type": "raw",
   "id": "4c00de0c-f3b7-473d-adf4-498ce26e1b06",
   "metadata": {},
   "source": [
    "### ROC"
   ]
  },
  {
   "cell_type": "code",
   "execution_count": 20,
   "id": "2ea0e90e-aa07-4cda-9545-e3c931b48f09",
   "metadata": {},
   "outputs": [],
   "source": [
    "import spacy\n",
    "import numpy as np\n",
    "nlp = spacy.load('en_core_web_sm')\n",
    "\n",
    "def predict_singleSentence(model, sentence):\n",
    "    model.eval()\n",
    "    tokenized = [tok.text for tok in nlp.tokenizer(sentence)]\n",
    "    indexed = [TEXT.vocab.stoi[t] for t in tokenized]\n",
    "    length = [len(indexed)]\n",
    "    tensor = torch.LongTensor(indexed).to(device)\n",
    "    tensor = tensor.unsqueeze(1)\n",
    "    length_tensor = torch.LongTensor(length)\n",
    "    prediction = int(round(torch.sigmoid(model(tensor, length_tensor)).item()))\n",
    "    return prediction\n",
    "\n",
    "def predict_sentiment(model, sentences):\n",
    "    pred_res = []\n",
    "    for i, sentence in sentences.items():\n",
    "        pred_res.append(predict_singleSentence(model, sentence))\n",
    "    return pred_res"
   ]
  },
  {
   "cell_type": "code",
   "execution_count": 21,
   "id": "3b0e95b3-4727-4a37-84f3-eac9915eb9d2",
   "metadata": {
    "jupyter": {
     "source_hidden": true
    },
    "tags": []
   },
   "outputs": [],
   "source": [
    "import matplotlib.pyplot as plt\n",
    "from numpy import interp\n",
    "from sklearn.preprocessing import label_binarize\n",
    "from sklearn.metrics import auc\n",
    "from sklearn.metrics import roc_curve\n",
    "from sklearn.metrics import roc_auc_score\n",
    "\n",
    "def prec_rec_curve(model, X, Y_true, titile=\"\"):\n",
    "    fpr = dict()\n",
    "    tpr = dict()\n",
    "    roc_auc = dict()\n",
    "    \n",
    "    y_test = Y_true\n",
    "    predict_res = predict_sentiment(model, X)\n",
    "    y_score = predict_res\n",
    "    fpr[0], tpr[0], _ = roc_curve(y_test, y_score)\n",
    "    roc_auc[0] = auc(fpr[0], tpr[0])\n",
    "\n",
    "    plt.plot(fpr[0], tpr[0], color=\"cornflowerblue\", lw=2,\n",
    "                 label='ROC curve (area = {1:0.2f})'.format(0, roc_auc[0]))\n",
    "\n",
    "    plt.plot([0, 1], [0, 1], 'k--', lw=2)\n",
    "    plt.xlim([0.0, 1.0])\n",
    "    plt.ylim([0.0, 1.05])\n",
    "    plt.xlabel('False Positive Rate')\n",
    "    plt.ylabel('True Positive Rate')\n",
    "    plt.title('Receiver Operating Characteristic')\n",
    "    plt.legend(loc=\"lower right\")"
   ]
  },
  {
   "cell_type": "code",
   "execution_count": 22,
   "id": "9a822191-0f30-47cd-b75b-82f736aa046f",
   "metadata": {},
   "outputs": [
    {
     "data": {
      "image/png": "[encoded data removed]",
      "text/plain": [
       "<Figure size 432x288 with 1 Axes>"
      ]
     },
     "metadata": {
      "needs_background": "light"
     },
     "output_type": "display_data"
    }
   ],
   "source": [
    "import pandas as pd\n",
    "test_df = pd.read_csv(\"dataset_2class/test.csv\", header=None)\n",
    "\n",
    "prec_rec_curve(model, test_df[0], test_df[1])"
   ]
  },
  {
   "cell_type": "markdown",
   "id": "a8862d0a-9e86-4bcb-8df6-d7e0f4d8cb53",
   "metadata": {},
   "source": [
    "### Confusion Matrix"
   ]
  },
  {
   "cell_type": "code",
   "execution_count": 23,
   "id": "dc79b012-edc1-44f6-a806-758f17bb0b0f",
   "metadata": {},
   "outputs": [
    {
     "data": {
      "text/plain": [
       "array([[0.88118812, 0.11881188],\n",
       "       [0.21212121, 0.78787879]])"
      ]
     },
     "execution_count": 23,
     "metadata": {},
     "output_type": "execute_result"
    }
   ],
   "source": [
    "from sklearn.metrics import confusion_matrix\n",
    "\n",
    "y_test_pred = predict_sentiment(model,  test_df[0])\n",
    "y_test_true = test_df[1]\n",
    "cm = confusion_matrix(y_test_pred, y_test_true, normalize='true')\n",
    "cm"
   ]
  },
  {
   "cell_type": "code",
   "execution_count": 24,
   "id": "d7dffb10-d14f-4ab6-b88c-109def1a708f",
   "metadata": {},
   "outputs": [
    {
     "data": {
      "image/png": "[encoded data removed]",
      "text/plain": [
       "<Figure size 432x288 with 2 Axes>"
      ]
     },
     "metadata": {
      "needs_background": "light"
     },
     "output_type": "display_data"
    }
   ],
   "source": [
    "normalize = True\n",
    "cmap = 'RdPu'\n",
    "classes = ['0', '1']\n",
    "title = 'Cofusion Matrix'\n",
    "fig, ax = plt.subplots()\n",
    "im = ax.imshow(cm, interpolation='nearest', cmap=cmap)\n",
    "ax.figure.colorbar(im, ax = ax)\n",
    "ax.set(xticks = np.arange(cm.shape[1]), yticks = np.arange(cm.shape[0]), xticklabels = classes, yticklabels = classes, ylabel = 'True label', xlabel = 'Predicted label', title = title)\n",
    "plt.setp(ax.get_xticklabels(), rotation=45, ha = 'right', rotation_mode = 'anchor')\n",
    "fmt = '.2f' if normalize else 'd'\n",
    "thresh = cm.max() / 2\n",
    "for i in range(cm.shape[0]):\n",
    "    for j in range(cm.shape[1]):\n",
    "        ax.text(j, i, format(cm[i, j], fmt), ha = 'center', va = 'center', color = 'white' if cm[i,j] > thresh else 'black')\n",
    "        fig.tight_layout()"
   ]
  },
  {
   "cell_type": "code",
   "execution_count": 25,
   "id": "942ad664-a1bc-40e1-b5ca-50a4bf43e451",
   "metadata": {},
   "outputs": [
    {
     "data": {
      "text/plain": [
       "Text(0, 0.5, 'Loss')"
      ]
     },
     "execution_count": 25,
     "metadata": {},
     "output_type": "execute_result"
    },
    {
     "data": {
      "image/png": "[encoded data removed]",
      "text/plain": [
       "<Figure size 1008x288 with 2 Axes>"
      ]
     },
     "metadata": {
      "needs_background": "light"
     },
     "output_type": "display_data"
    }
   ],
   "source": [
    "totEpoch = N_EPOCHS\n",
    "x = range(0, totEpoch)\n",
    "plt.figure(figsize=(14,4))\n",
    "grid = plt.GridSpec(3, 2, wspace=0.5, hspace=0.5)\n",
    "plt.subplot(grid[:,0])\n",
    "# plt.plot(x, F1_list_train, color=\"b\", marker='o',markersize='1.5',markeredgecolor='b',markeredgewidth = 1.5, label = 'Train F1 score')\n",
    "plt.plot(x, train_f1, color=\"r\", marker='o',markersize='1.5',markeredgecolor='r',markeredgewidth = 1.5, label = 'Train F1 score')\n",
    "plt.plot(x, valid_f1, color=\"b\", marker='o',markersize='1.5',markeredgecolor='b',markeredgewidth = 1.5, label = 'Valid F1 score')\n",
    "plt.legend()\n",
    "plt.title('F1 Score vs Epoches')\n",
    "plt.xlabel('Epoches')\n",
    "plt.ylabel('F1 Score')\n",
    "plt.subplot(grid[:,1])\n",
    "plt.plot(x, train_loss, color=\"red\", marker='o',markersize='1.5',markeredgecolor='r',markeredgewidth = 1.5, label = 'Train Loss')\n",
    "plt.plot(x, valid_loss, color=\"blue\", marker='o',markersize='1.5',markeredgecolor='b',markeredgewidth = 1.5, label = 'Valid Loss')\n",
    "plt.legend()\n",
    "plt.title('Loss vs Epoches')\n",
    "plt.xlabel('Epoches')\n",
    "plt.ylabel('Loss')"
   ]
  },
  {
   "cell_type": "code",
   "execution_count": 30,
   "id": "0b647ad1-3af5-486d-b06d-2f6b2d4532a6",
   "metadata": {},
   "outputs": [],
   "source": [
    "df = pd.read_csv(\"covidvaccine_tweet_sentiment.csv\", header=0)\n",
    "y_pred = predict_sentiment(model,  df.loc[:, \"text\"].apply(str))\n",
    "df['veracity'] = y_pred\n",
    "df.to_csv(\"covidvaccine_tweet_sentiment_veracity.csv\", index=False)"
   ]
  },
  {
   "cell_type": "code",
   "execution_count": null,
   "id": "158737c5-f3af-4e34-9689-1960e1014cf9",
   "metadata": {},
   "outputs": [],
   "source": []
  }
 ],
 "metadata": {
  "environment": {
   "kernel": "python3",
   "name": "pytorch-gpu.1-9.m82",
   "type": "gcloud",
   "uri": "gcr.io/deeplearning-platform-release/pytorch-gpu.1-9:m82"
  },
  "kernelspec": {
   "display_name": "Python 3",
   "language": "python",
   "name": "python3"
  },
  "language_info": {
   "codemirror_mode": {
    "name": "ipython",
    "version": 3
   },
   "file_extension": ".py",
   "mimetype": "text/x-python",
   "name": "python",
   "nbconvert_exporter": "python",
   "pygments_lexer": "ipython3",
   "version": "3.7.10"
  }
 },
 "nbformat": 4,
 "nbformat_minor": 5
}
