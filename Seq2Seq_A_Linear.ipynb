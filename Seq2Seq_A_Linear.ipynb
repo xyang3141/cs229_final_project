{
 "cells": [
  {
   "cell_type": "code",
   "execution_count": 1,
   "id": "22488312-e162-47ce-855e-7d5858351bcc",
   "metadata": {},
   "outputs": [],
   "source": [
    "import pandas as pd\n",
    "import numpy as np"
   ]
  },
  {
   "cell_type": "code",
   "execution_count": 2,
   "id": "aa0d9f1e-edaa-4f7c-b7b8-5e877a6071ea",
   "metadata": {},
   "outputs": [
    {
     "name": "stderr",
     "output_type": "stream",
     "text": [
      "/opt/conda/lib/python3.7/site-packages/IPython/core/interactiveshell.py:3444: DtypeWarning: Columns (8,12) have mixed types.Specify dtype option on import or set low_memory=False.\n",
      "  exec(code_obj, self.user_global_ns, self.user_ns)\n",
      "/opt/conda/lib/python3.7/site-packages/ipykernel_launcher.py:4: FutureWarning: Value based partial slicing on non-monotonic DatetimeIndexes with non-existing keys is deprecated and will raise a KeyError in a future Version.\n",
      "  after removing the cwd from sys.path.\n"
     ]
    }
   ],
   "source": [
    "START, END = '2021-1-1', '2021-11-25'\n",
    "data_tweet = pd.read_csv(\"covidvaccine_tweet_sentiment.csv\", index_col=['date'], parse_dates=['date'])\n",
    "data_vaccine = pd.read_csv(\"COVID-19_Vaccination_Trends_Population.csv\", index_col=['Date'], parse_dates=['Date'], thousands=',')\n",
    "data_tweet = data_tweet.loc[START:END]\n",
    "data_vaccine = data_vaccine.loc[START:END]"
   ]
  },
  {
   "cell_type": "code",
   "execution_count": 3,
   "id": "912345d8-d790-4cb5-b682-5d3e18031cd5",
   "metadata": {},
   "outputs": [],
   "source": [
    "# Divided by states\n",
    "vaccine_by_state = {}\n",
    "tweet_by_state = {}\n",
    "locs = data_tweet['user_location'].unique()\n",
    "for i in range(len(locs)):\n",
    "    loc = locs[i]\n",
    "    tmp = data_tweet[data_tweet['user_location'] == loc]\n",
    "    if len(tmp) > 500:\n",
    "        tweet_by_state[loc] = tmp\n",
    "        vaccine_by_state[loc] = data_vaccine[data_vaccine['Location']==loc]"
   ]
  },
  {
   "cell_type": "code",
   "execution_count": 4,
   "id": "d91288bf-910e-4905-9dd8-a592394322a2",
   "metadata": {},
   "outputs": [],
   "source": [
    "# TODO Calculate Tweet Impact\n",
    "def tweet_impact(state, f1):\n",
    "    table = tweet_by_state[state]\n",
    "    impact = (f1 * np.log(table['user_followers'])) * table['sentiment_score']\n",
    "    # impact = table['sentiment_score']\n",
    "    return impact.resample('1D').mean()"
   ]
  },
  {
   "cell_type": "code",
   "execution_count": null,
   "id": "557cd20f-94fc-4d7e-9f02-e80bf11d7ba8",
   "metadata": {
    "scrolled": true,
    "tags": []
   },
   "outputs": [],
   "source": [
    "F1 = 0.8\n",
    "WINDOW = '7D'\n",
    "\n",
    "from matplotlib import pyplot as plt\n",
    "impact_score = []\n",
    "vaccination_rate = []\n",
    "for state in tweet_by_state:\n",
    "    # Calculate Tweet Impact\n",
    "    date_idx = pd.date_range(start=START, end=END, freq='1D')\n",
    "    series = pd.Series(index=date_idx, dtype='object')\n",
    "    tmp = tweet_impact(state, F1).ewm(com=0.7).mean()\n",
    "    series[tmp.index] = tmp\n",
    "    series.interpolate(method='polynomial', order=2, inplace=True)\n",
    "    series = series.resample(WINDOW).mean()\n",
    "    impact_score.append(series)\n",
    "    # impact_score.append(series[:-2]) # interploate cannot fill last few values\n",
    "    \n",
    "    # Calculate vaccination rate\n",
    "    vaccine = vaccine_by_state[state]\n",
    "    # TODO Chooses \"Administration\" or \"Report\" date type\n",
    "    vaccine = vaccine[vaccine['date_type'] == \"Admin\"]\n",
    "    vaccine = vaccine.resample(WINDOW).mean()\n",
    "    vaccine = vaccine.ewm(com=2).mean()\n",
    "    vaccination_rate.append(vaccine['Administered_Daily'] / vaccine['Population'] * 100)\n",
    "\n",
    "plt.plot(impact_score[4].index, impact_score[4])\n",
    "impact_score = np.array(impact_score)\n",
    "vaccination_rate = np.array(vaccination_rate)"
   ]
  },
  {
   "cell_type": "code",
   "execution_count": 6,
   "id": "db1571e7-72e4-4543-895d-d6afb4e88251",
   "metadata": {},
   "outputs": [
    {
     "name": "stdout",
     "output_type": "stream",
     "text": [
      "(33, 47)\n",
      "(33, 47)\n"
     ]
    }
   ],
   "source": [
    "print(impact_score.shape)\n",
    "print(vaccination_rate.shape)"
   ]
  },
  {
   "cell_type": "markdown",
   "id": "4cbf2786-e63f-4146-8e9d-604befd287b6",
   "metadata": {},
   "source": [
    "from sklearn.linear_model import LinearRegression\n",
    "from sklearn.preprocessing import PolynomialFeatures\n",
    "from sklearn.model_selection import train_test_split\n",
    "## Linear Regression"
   ]
  },
  {
   "cell_type": "code",
   "execution_count": 10,
   "id": "1b1882ae-f682-488d-80dd-cededae20931",
   "metadata": {},
   "outputs": [],
   "source": [
    "from sklearn.linear_model import LinearRegression\n",
    "from sklearn.preprocessing import PolynomialFeatures\n",
    "from sklearn.model_selection import train_test_split"
   ]
  },
  {
   "cell_type": "code",
   "execution_count": 12,
   "id": "3042286f-b622-4e6f-8e7d-079b66123a73",
   "metadata": {},
   "outputs": [],
   "source": [
    "x_train = impact_score.reshape(-1,1)\n",
    "y_train = vaccination_rate.reshape(-1,1)\n",
    "x_train, x_valid, y_train, y_valid = train_test_split(x_train, y_train, shuffle=True, train_size=0.8)"
   ]
  },
  {
   "cell_type": "code",
   "execution_count": 13,
   "id": "0fe0ffee-52d2-481a-883c-d24c9293acf5",
   "metadata": {},
   "outputs": [
    {
     "data": {
      "text/plain": [
       "<matplotlib.collections.PathCollection at 0x7fd3bb1de8d0>"
      ]
     },
     "execution_count": 13,
     "metadata": {},
     "output_type": "execute_result"
    },
    {
     "data": {
      "image/png": "[encoded data removed]",
      "text/plain": [
       "<Figure size 432x288 with 1 Axes>"
      ]
     },
     "metadata": {
      "needs_background": "light"
     },
     "output_type": "display_data"
    }
   ],
   "source": [
    "plt.scatter(x_train, y_train, marker='o')"
   ]
  },
  {
   "cell_type": "code",
   "execution_count": 15,
   "id": "3c159953-4c03-4469-a143-e9a4871300db",
   "metadata": {},
   "outputs": [
    {
     "data": {
      "text/plain": [
       "0.014580203527522984"
      ]
     },
     "execution_count": 15,
     "metadata": {},
     "output_type": "execute_result"
    }
   ],
   "source": [
    "poly = PolynomialFeatures(2)\n",
    "reg = LinearRegression()\n",
    "reg.fit(poly.fit_transform(x_train), y_train)\n",
    "reg.score(poly.fit_transform(x_valid), y_valid)"
   ]
  },
  {
   "cell_type": "code",
   "execution_count": null,
   "id": "9db8ca1e-2adc-434c-a73c-6a4fed041370",
   "metadata": {},
   "outputs": [],
   "source": []
  },
  {
   "cell_type": "code",
   "execution_count": null,
   "id": "4a87a863-d2e1-422f-8841-82e4c1ca25d8",
   "metadata": {},
   "outputs": [],
   "source": []
  },
  {
   "cell_type": "code",
   "execution_count": null,
   "id": "32eb1139-a3ab-4d4c-99a0-c8244fe0d9a6",
   "metadata": {},
   "outputs": [],
   "source": []
  }
 ],
 "metadata": {
  "environment": {
   "kernel": "python3",
   "name": "pytorch-gpu.1-9.m82",
   "type": "gcloud",
   "uri": "gcr.io/deeplearning-platform-release/pytorch-gpu.1-9:m82"
  },
  "kernelspec": {
   "display_name": "Python 3",
   "language": "python",
   "name": "python3"
  },
  "language_info": {
   "codemirror_mode": {
    "name": "ipython",
    "version": 3
   },
   "file_extension": ".py",
   "mimetype": "text/x-python",
   "name": "python",
   "nbconvert_exporter": "python",
   "pygments_lexer": "ipython3",
   "version": "3.7.10"
  }
 },
 "nbformat": 4,
 "nbformat_minor": 5
}
